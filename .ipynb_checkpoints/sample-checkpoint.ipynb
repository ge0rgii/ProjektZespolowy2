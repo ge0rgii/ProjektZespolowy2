{
 "cells": [
  {
   "metadata": {},
   "cell_type": "markdown",
   "source": [
    "# This is a sample Jupyter Notebook\n",
    "\n",
    "Below is an example of a code cell. \n",
    "Put your cursor into the cell and press Shift+Enter to execute it and select the next one, or click !here goes the icon of the corresponding button in the gutter! button.\n",
    "To debug a cell, press Alt+Shift+Enter, or click !here goes the icon of the corresponding button in the gutter! button.\n",
    "\n",
    "Press Double Shift to search everywhere for classes, files, tool windows, actions, and settings.\n",
    "\n",
    "To learn more about Jupyter Notebooks in PyCharm, see [help](https://www.jetbrains.com/help/pycharm/jupyter-notebook-support.html).\n",
    "For an overview of PyCharm, go to Help -> Learn IDE features or refer to [our documentation](https://www.jetbrains.com/help/pycharm/getting-started.html)."
   ],
   "id": "8a77807f92f26ee"
  },
  {
   "metadata": {
    "ExecuteTime": {
     "end_time": "2024-05-30T21:34:30.996866Z",
     "start_time": "2024-05-30T21:34:30.900432Z"
    }
   },
   "cell_type": "code",
   "source": "import numpy as np",
   "id": "fbc121e30a2defb3",
   "outputs": [],
   "execution_count": 1
  },
  {
   "metadata": {
    "ExecuteTime": {
     "end_time": "2024-05-27T23:11:44.641481Z",
     "start_time": "2024-05-27T23:11:44.635965Z"
    }
   },
   "cell_type": "code",
   "source": "np.version",
   "id": "25bae24a3421c72b",
   "outputs": [
    {
     "data": {
      "text/plain": [
       "<module 'numpy.version' from 'C:\\\\ProgramData\\\\anaconda3\\\\Lib\\\\site-packages\\\\numpy\\\\version.py'>"
      ]
     },
     "execution_count": 3,
     "metadata": {},
     "output_type": "execute_result"
    }
   ],
   "execution_count": 3
  },
  {
   "metadata": {
    "ExecuteTime": {
     "end_time": "2024-05-27T23:12:46.688570Z",
     "start_time": "2024-05-27T23:12:46.684088Z"
    }
   },
   "cell_type": "code",
   "source": [
    "import sys\n",
    "import os\n",
    "\n",
    "print(f\"Python executable: {sys.executable}\")\n",
    "print(f\"Environment path: {os.environ['CONDA_PREFIX']}\")\n"
   ],
   "id": "971c76ac01c5782c",
   "outputs": [
    {
     "name": "stdout",
     "output_type": "stream",
     "text": [
      "Python executable: C:\\ProgramData\\anaconda3\\python.exe\n",
      "Environment path: C:\\ProgramData\\anaconda3\n"
     ]
    }
   ],
   "execution_count": 4
  },
  {
   "metadata": {
    "ExecuteTime": {
     "end_time": "2024-05-30T21:38:42.508470Z",
     "start_time": "2024-05-30T21:38:39.877196Z"
    }
   },
   "cell_type": "code",
   "source": "!conda info --envs\n",
   "id": "8e9e5f6bd7e3a70e",
   "outputs": [
    {
     "name": "stdout",
     "output_type": "stream",
     "text": [
      "# conda environments:\n",
      "#\n",
      "base                  *  C:\\ProgramData\\anaconda3\n",
      "\n"
     ]
    }
   ],
   "execution_count": 3
  },
  {
   "metadata": {},
   "cell_type": "code",
   "outputs": [],
   "execution_count": null,
   "source": "",
   "id": "a4b035055b1f9bc"
  },
  {
   "metadata": {
    "ExecuteTime": {
     "end_time": "2024-06-01T14:19:31.371971Z",
     "start_time": "2024-06-01T14:19:31.358518Z"
    }
   },
   "cell_type": "code",
   "source": [
    "import sys\n",
    "print(sys.executable)\n"
   ],
   "id": "7af66b5736bfae0",
   "outputs": [
    {
     "name": "stdout",
     "output_type": "stream",
     "text": [
      "C:\\Users\\jerzy\\.conda\\envs\\torch_gpu_test\\python.exe\n"
     ]
    }
   ],
   "execution_count": 1
  },
  {
   "metadata": {
    "ExecuteTime": {
     "end_time": "2024-06-01T14:19:41.574525Z",
     "start_time": "2024-06-01T14:19:39.747624Z"
    }
   },
   "cell_type": "code",
   "source": [
    "import tensorflow as tf\n",
    "\n",
    "# Check GPU availability\n",
    "print(\"Num GPUs Available: \", len(tf.config.list_physical_devices('GPU')))\n",
    "\n",
    "# Check if TensorFlow was built with CUDA support\n",
    "print(\"Built with CUDA:\", tf.test.is_built_with_cuda())\n",
    "\n",
    "# Get CUDA and cuDNN version\n",
    "try:\n",
    "    cuda_version = tf.sysconfig.get_build_info().get(\"cuda_version\", \"Not found\")\n",
    "    cudnn_version = tf.sysconfig.get_build_info().get(\"cudnn_version\", \"Not found\")\n",
    "    print(\"CUDA Version: \", cuda_version)\n",
    "    print(\"cuDNN Version: \", cudnn_version)\n",
    "except KeyError as e:\n",
    "    print(f\"KeyError: {e}\")\n"
   ],
   "id": "ec7fb1f920855ff8",
   "outputs": [
    {
     "name": "stdout",
     "output_type": "stream",
     "text": [
      "Num GPUs Available:  0\n",
      "Built with CUDA: False\n",
      "CUDA Version:  Not found\n",
      "cuDNN Version:  Not found\n"
     ]
    }
   ],
   "execution_count": 2
  },
  {
   "metadata": {},
   "cell_type": "code",
   "outputs": [],
   "execution_count": null,
   "source": "",
   "id": "50c1bc5f8d339a7d"
  },
  {
   "metadata": {
    "ExecuteTime": {
     "end_time": "2024-06-01T14:25:23.892981Z",
     "start_time": "2024-06-01T14:25:23.886073Z"
    }
   },
   "cell_type": "code",
   "source": [
    "import tensorflow as tf\n",
    "\n",
    "# List all physical devices\n",
    "devices = tf.config.list_physical_devices()\n",
    "print(devices)\n",
    "\n",
    "# To list only GPUs, you can use:\n",
    "gpus = tf.config.list_physical_devices('GPU')\n",
    "print(gpus)\n"
   ],
   "id": "14bdbc2c82a53339",
   "outputs": [
    {
     "name": "stdout",
     "output_type": "stream",
     "text": [
      "[PhysicalDevice(name='/physical_device:CPU:0', device_type='CPU')]\n",
      "[]\n"
     ]
    }
   ],
   "execution_count": 8
  },
  {
   "metadata": {
    "ExecuteTime": {
     "end_time": "2024-06-01T14:32:33.242217Z",
     "start_time": "2024-06-01T14:32:33.229954Z"
    }
   },
   "cell_type": "code",
   "source": [
    "import tensorflow as tf \n",
    "print(tf.config.list_physical_devices('GPU'))"
   ],
   "id": "4c86b0cc6834765",
   "outputs": [
    {
     "name": "stdout",
     "output_type": "stream",
     "text": [
      "[]\n"
     ]
    }
   ],
   "execution_count": 16
  },
  {
   "metadata": {
    "ExecuteTime": {
     "end_time": "2024-06-01T14:19:57.079270Z",
     "start_time": "2024-06-01T14:19:55.355860Z"
    }
   },
   "cell_type": "code",
   "source": [
    "import torch\n",
    "print(f\"PyTorch version: {torch.__version__}\")\n",
    "print(f\"CUDA available: {torch.cuda.is_available()}\")\n",
    "if torch.cuda.is_available():\n",
    "    print(f\"CUDA version: {torch.version.cuda}\")\n",
    "    print(f\"Device count: {torch.cuda.device_count()}\")\n",
    "    print(f\"Current device: {torch.cuda.current_device()}\")\n",
    "    print(f\"Device name: {torch.cuda.get_device_name(torch.cuda.current_device())}\")\n"
   ],
   "id": "946c36905e6bb916",
   "outputs": [
    {
     "name": "stdout",
     "output_type": "stream",
     "text": [
      "PyTorch version: 2.4.0.dev20240531\n",
      "CUDA available: True\n",
      "CUDA version: 12.4\n",
      "Device count: 1\n",
      "Current device: 0\n",
      "Device name: NVIDIA GeForce RTX 4070 Laptop GPU\n"
     ]
    }
   ],
   "execution_count": 5
  },
  {
   "metadata": {},
   "cell_type": "code",
   "outputs": [],
   "execution_count": null,
   "source": [
    "import tensorflow as tf\n",
    "print(tf.__version__)\n"
   ],
   "id": "b4fdf8f73b0efac4"
  },
  {
   "metadata": {
    "ExecuteTime": {
     "end_time": "2024-06-01T14:41:25.324271Z",
     "start_time": "2024-06-01T14:41:25.314546Z"
    }
   },
   "cell_type": "code",
   "source": [
    "import sys\n",
    "print(sys.executable)\n",
    "\n"
   ],
   "id": "4a5ff949a5f75f2",
   "outputs": [
    {
     "name": "stdout",
     "output_type": "stream",
     "text": [
      "C:\\Users\\jerzy\\.conda\\envs\\torch_gpu_test\\python.exe\n"
     ]
    }
   ],
   "execution_count": 30
  },
  {
   "metadata": {},
   "cell_type": "code",
   "outputs": [],
   "execution_count": null,
   "source": "",
   "id": "8735c31673baec99"
  },
  {
   "metadata": {
    "ExecuteTime": {
     "end_time": "2024-06-01T14:42:22.298673Z",
     "start_time": "2024-06-01T14:42:22.276927Z"
    }
   },
   "cell_type": "code",
   "source": [
    "import sys\n",
    "print(sys.executable)\n",
    "\n"
   ],
   "id": "fbe769693b9a95dd",
   "outputs": [
    {
     "name": "stdout",
     "output_type": "stream",
     "text": [
      "C:\\Users\\jerzy\\.conda\\envs\\torch_gpu_test\\python.exe\n"
     ]
    }
   ],
   "execution_count": 17
  }
 ],
 "metadata": {
  "kernelspec": {
   "display_name": "Python 3",
   "language": "python",
   "name": "python3"
  },
  "language_info": {
   "codemirror_mode": {
    "name": "ipython",
    "version": 2
   },
   "file_extension": ".py",
   "mimetype": "text/x-python",
   "name": "python",
   "nbconvert_exporter": "python",
   "pygments_lexer": "ipython2",
   "version": "2.7.6"
  }
 },
 "nbformat": 4,
 "nbformat_minor": 5
}
