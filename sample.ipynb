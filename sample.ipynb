{
 "cells": [
  {
   "metadata": {},
   "cell_type": "markdown",
   "source": [
    "# This is a sample Jupyter Notebook\n",
    "\n",
    "Below is an example of a code cell. \n",
    "Put your cursor into the cell and press Shift+Enter to execute it and select the next one, or click !here goes the icon of the corresponding button in the gutter! button.\n",
    "To debug a cell, press Alt+Shift+Enter, or click !here goes the icon of the corresponding button in the gutter! button.\n",
    "\n",
    "Press Double Shift to search everywhere for classes, files, tool windows, actions, and settings.\n",
    "\n",
    "To learn more about Jupyter Notebooks in PyCharm, see [help](https://www.jetbrains.com/help/pycharm/jupyter-notebook-support.html).\n",
    "For an overview of PyCharm, go to Help -> Learn IDE features or refer to [our documentation](https://www.jetbrains.com/help/pycharm/getting-started.html)."
   ],
   "id": "8a77807f92f26ee"
  },
  {
   "metadata": {
    "ExecuteTime": {
     "end_time": "2024-06-01T15:44:44.405955Z",
     "start_time": "2024-06-01T15:44:43.999706Z"
    }
   },
   "cell_type": "code",
   "source": "import numpy as np",
   "id": "fbc121e30a2defb3",
   "outputs": [
    {
     "ename": "ModuleNotFoundError",
     "evalue": "No module named 'numpy'",
     "output_type": "error",
     "traceback": [
      "\u001B[1;31m---------------------------------------------------------------------------\u001B[0m",
      "\u001B[1;31mModuleNotFoundError\u001B[0m                       Traceback (most recent call last)",
      "Cell \u001B[1;32mIn[1], line 1\u001B[0m\n\u001B[1;32m----> 1\u001B[0m \u001B[38;5;28;01mimport\u001B[39;00m \u001B[38;5;21;01mnumpy\u001B[39;00m \u001B[38;5;28;01mas\u001B[39;00m \u001B[38;5;21;01mnp\u001B[39;00m\n",
      "\u001B[1;31mModuleNotFoundError\u001B[0m: No module named 'numpy'"
     ]
    }
   ],
   "execution_count": 1
  },
  {
   "metadata": {},
   "cell_type": "code",
   "outputs": [],
   "execution_count": null,
   "source": "",
   "id": "e4397dda1dac5607"
  },
  {
   "metadata": {
    "ExecuteTime": {
     "end_time": "2024-05-27T23:11:44.641481Z",
     "start_time": "2024-05-27T23:11:44.635965Z"
    }
   },
   "cell_type": "code",
   "source": "np.version",
   "id": "25bae24a3421c72b",
   "outputs": [
    {
     "data": {
      "text/plain": [
       "<module 'numpy.version' from 'C:\\\\ProgramData\\\\anaconda3\\\\Lib\\\\site-packages\\\\numpy\\\\version.py'>"
      ]
     },
     "execution_count": 3,
     "metadata": {},
     "output_type": "execute_result"
    }
   ],
   "execution_count": 3
  },
  {
   "metadata": {
    "ExecuteTime": {
     "end_time": "2024-05-27T23:12:46.688570Z",
     "start_time": "2024-05-27T23:12:46.684088Z"
    }
   },
   "cell_type": "code",
   "source": [
    "import sys\n",
    "import os\n",
    "\n",
    "print(f\"Python executable: {sys.executable}\")\n",
    "print(f\"Environment path: {os.environ['CONDA_PREFIX']}\")\n"
   ],
   "id": "971c76ac01c5782c",
   "outputs": [
    {
     "name": "stdout",
     "output_type": "stream",
     "text": [
      "Python executable: C:\\ProgramData\\anaconda3\\python.exe\n",
      "Environment path: C:\\ProgramData\\anaconda3\n"
     ]
    }
   ],
   "execution_count": 4
  },
  {
   "metadata": {
    "ExecuteTime": {
     "end_time": "2024-05-30T21:38:42.508470Z",
     "start_time": "2024-05-30T21:38:39.877196Z"
    }
   },
   "cell_type": "code",
   "source": "!conda info --envs\n",
   "id": "8e9e5f6bd7e3a70e",
   "outputs": [
    {
     "name": "stdout",
     "output_type": "stream",
     "text": [
      "# conda environments:\n",
      "#\n",
      "base                  *  C:\\ProgramData\\anaconda3\n",
      "\n"
     ]
    }
   ],
   "execution_count": 3
  },
  {
   "metadata": {},
   "cell_type": "code",
   "outputs": [],
   "execution_count": null,
   "source": "",
   "id": "a4b035055b1f9bc"
  },
  {
   "metadata": {
    "ExecuteTime": {
     "end_time": "2024-06-01T15:42:38.143627Z",
     "start_time": "2024-06-01T15:42:38.129099Z"
    }
   },
   "cell_type": "code",
   "source": [
    "import sys\n",
    "print(sys.executable)\n"
   ],
   "id": "7af66b5736bfae0",
   "outputs": [
    {
     "name": "stdout",
     "output_type": "stream",
     "text": [
      "C:\\Users\\jerzy\\.conda\\envs\\ProjektZespolowy\\python.exe\n"
     ]
    }
   ],
   "execution_count": 1
  },
  {
   "metadata": {
    "ExecuteTime": {
     "end_time": "2024-06-01T14:57:44.320518Z",
     "start_time": "2024-06-01T14:57:44.315123Z"
    }
   },
   "cell_type": "code",
   "source": [
    "import tensorflow as tf\n",
    "\n",
    "# Check GPU availability\n",
    "print(\"Num GPUs Available: \", len(tf.config.list_physical_devices('GPU')))\n",
    "\n",
    "# Check if TensorFlow was built with CUDA support\n",
    "print(\"Built with CUDA:\", tf.test.is_built_with_cuda())\n",
    "\n",
    "# Get CUDA and cuDNN version\n",
    "try:\n",
    "    cuda_version = tf.sysconfig.get_build_info().get(\"cuda_version\", \"Not found\")\n",
    "    cudnn_version = tf.sysconfig.get_build_info().get(\"cudnn_version\", \"Not found\")\n",
    "    print(\"CUDA Version: \", cuda_version)\n",
    "    print(\"cuDNN Version: \", cudnn_version)\n",
    "except KeyError as e:\n",
    "    print(f\"KeyError: {e}\")\n"
   ],
   "id": "ec7fb1f920855ff8",
   "outputs": [
    {
     "name": "stdout",
     "output_type": "stream",
     "text": [
      "Num GPUs Available:  0\n",
      "Built with CUDA: True\n",
      "CUDA Version:  64_112\n",
      "cuDNN Version:  64_8\n"
     ]
    }
   ],
   "execution_count": 19
  },
  {
   "metadata": {},
   "cell_type": "code",
   "outputs": [],
   "execution_count": null,
   "source": "",
   "id": "50c1bc5f8d339a7d"
  },
  {
   "metadata": {
    "ExecuteTime": {
     "end_time": "2024-06-01T15:02:27.578174Z",
     "start_time": "2024-06-01T15:02:27.558159Z"
    }
   },
   "cell_type": "code",
   "source": [
    "import tensorflow as tf\n",
    "\n",
    "# List all physical devices\n",
    "devices = tf.config.list_physical_devices()\n",
    "print(devices)\n",
    "\n",
    "# To list only GPUs, you can use:\n",
    "gpus = tf.config.list_physical_devices('GPU')\n",
    "print(gpus)\n"
   ],
   "id": "14bdbc2c82a53339",
   "outputs": [
    {
     "name": "stdout",
     "output_type": "stream",
     "text": [
      "[PhysicalDevice(name='/physical_device:CPU:0', device_type='CPU')]\n",
      "[]\n"
     ]
    }
   ],
   "execution_count": 18
  },
  {
   "metadata": {
    "ExecuteTime": {
     "end_time": "2024-06-01T15:34:55.771694Z",
     "start_time": "2024-06-01T15:34:55.686696Z"
    }
   },
   "cell_type": "code",
   "source": [
    "!set CUDA_HOME=C:\\Program Files\\NVIDIA GPU Computing Toolkit\\CUDA\\v12.5\n",
    "!set LD_LIBRARY_PATH=C:\\Program Files\\NVIDIA GPU Computing Toolkit\\CUDA\\v12.5\\bin\n",
    "\n",
    "import tensorflow as tf; print(tf.config.list_physical_devices('GPU'))"
   ],
   "id": "4c86b0cc6834765",
   "outputs": [
    {
     "name": "stdout",
     "output_type": "stream",
     "text": [
      "[]\n"
     ]
    }
   ],
   "execution_count": 10
  },
  {
   "metadata": {
    "ExecuteTime": {
     "end_time": "2024-06-01T14:58:55.217549Z",
     "start_time": "2024-06-01T14:58:54.770738Z"
    }
   },
   "cell_type": "code",
   "source": [
    "import torch\n",
    "print(f\"PyTorch version: {torch.__version__}\")\n",
    "print(f\"CUDA available: {torch.cuda.is_available()}\")\n",
    "if torch.cuda.is_available():\n",
    "    print(f\"CUDA version: {torch.version.cuda}\")\n",
    "    print(f\"Device count: {torch.cuda.device_count()}\")\n",
    "    print(f\"Current device: {torch.cuda.current_device()}\")\n",
    "    print(f\"Device name: {torch.cuda.get_device_name(torch.cuda.current_device())}\")\n"
   ],
   "id": "946c36905e6bb916",
   "outputs": [
    {
     "ename": "ModuleNotFoundError",
     "evalue": "No module named 'torch'",
     "output_type": "error",
     "traceback": [
      "\u001B[1;31m---------------------------------------------------------------------------\u001B[0m",
      "\u001B[1;31mModuleNotFoundError\u001B[0m                       Traceback (most recent call last)",
      "Cell \u001B[1;32mIn[1], line 1\u001B[0m\n\u001B[1;32m----> 1\u001B[0m \u001B[38;5;28;01mimport\u001B[39;00m \u001B[38;5;21;01mtorch\u001B[39;00m\n\u001B[0;32m      2\u001B[0m \u001B[38;5;28mprint\u001B[39m(\u001B[38;5;124mf\u001B[39m\u001B[38;5;124m\"\u001B[39m\u001B[38;5;124mPyTorch version: \u001B[39m\u001B[38;5;132;01m{\u001B[39;00mtorch\u001B[38;5;241m.\u001B[39m__version__\u001B[38;5;132;01m}\u001B[39;00m\u001B[38;5;124m\"\u001B[39m)\n\u001B[0;32m      3\u001B[0m \u001B[38;5;28mprint\u001B[39m(\u001B[38;5;124mf\u001B[39m\u001B[38;5;124m\"\u001B[39m\u001B[38;5;124mCUDA available: \u001B[39m\u001B[38;5;132;01m{\u001B[39;00mtorch\u001B[38;5;241m.\u001B[39mcuda\u001B[38;5;241m.\u001B[39mis_available()\u001B[38;5;132;01m}\u001B[39;00m\u001B[38;5;124m\"\u001B[39m)\n",
      "\u001B[1;31mModuleNotFoundError\u001B[0m: No module named 'torch'"
     ]
    }
   ],
   "execution_count": 1
  },
  {
   "metadata": {
    "ExecuteTime": {
     "end_time": "2024-06-01T14:59:54.466543Z",
     "start_time": "2024-06-01T14:59:54.456889Z"
    }
   },
   "cell_type": "code",
   "source": [
    "import tensorflow as tf\n",
    "print(tf.__version__)\n"
   ],
   "id": "b4fdf8f73b0efac4",
   "outputs": [
    {
     "name": "stdout",
     "output_type": "stream",
     "text": [
      "2.10.1\n"
     ]
    }
   ],
   "execution_count": 10
  },
  {
   "metadata": {
    "ExecuteTime": {
     "end_time": "2024-06-01T14:59:49.853636Z",
     "start_time": "2024-06-01T14:59:49.843267Z"
    }
   },
   "cell_type": "code",
   "source": [
    "import sys\n",
    "print(sys.executable)\n",
    "\n"
   ],
   "id": "4a5ff949a5f75f2",
   "outputs": [
    {
     "name": "stdout",
     "output_type": "stream",
     "text": [
      "C:\\Users\\jerzy\\.conda\\envs\\tf_gpu_test\\python.exe\n"
     ]
    }
   ],
   "execution_count": 9
  },
  {
   "metadata": {},
   "cell_type": "code",
   "outputs": [],
   "execution_count": null,
   "source": "",
   "id": "8735c31673baec99"
  },
  {
   "metadata": {
    "ExecuteTime": {
     "end_time": "2024-06-02T02:43:20.974669Z",
     "start_time": "2024-06-02T02:43:20.964561Z"
    }
   },
   "cell_type": "code",
   "source": [
    "import sys\n",
    "print(sys.executable)\n",
    "\n"
   ],
   "id": "fbe769693b9a95dd",
   "outputs": [
    {
     "name": "stdout",
     "output_type": "stream",
     "text": [
      "C:\\Users\\jerzy\\.conda\\envs\\ProjektZespolowy\\python.exe\n"
     ]
    }
   ],
   "execution_count": 1
  },
  {
   "metadata": {},
   "cell_type": "code",
   "outputs": [],
   "execution_count": null,
   "source": "",
   "id": "3e5b9a71ed04cc0f"
  },
  {
   "metadata": {},
   "cell_type": "code",
   "outputs": [],
   "execution_count": null,
   "source": "",
   "id": "8534d40b9dc57294"
  },
  {
   "metadata": {
    "ExecuteTime": {
     "end_time": "2024-06-02T02:43:24.713597Z",
     "start_time": "2024-06-02T02:43:24.704226Z"
    }
   },
   "cell_type": "code",
   "source": [
    "import sys\n",
    "print(sys.version)\n"
   ],
   "id": "1191e71904d96fb4",
   "outputs": [
    {
     "name": "stdout",
     "output_type": "stream",
     "text": [
      "3.8.19 (default, Mar 20 2024, 19:55:45) [MSC v.1916 64 bit (AMD64)]\n"
     ]
    }
   ],
   "execution_count": 2
  }
 ],
 "metadata": {
  "kernelspec": {
   "display_name": "Python (ProjektZespolowy)",
   "language": "python",
   "name": "projektzespolowy"
  },
  "language_info": {
   "codemirror_mode": {
    "name": "ipython",
    "version": 2
   },
   "file_extension": ".py",
   "mimetype": "text/x-python",
   "name": "python",
   "nbconvert_exporter": "python",
   "pygments_lexer": "ipython2",
   "version": "2.7.6"
  }
 },
 "nbformat": 4,
 "nbformat_minor": 5
}
